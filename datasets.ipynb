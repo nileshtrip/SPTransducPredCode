{
 "cells": [
  {
   "cell_type": "code",
   "execution_count": 3,
   "metadata": {
    "collapsed": true
   },
   "outputs": [],
   "source": [
    "import pandas as pd\n",
    "import numpy as np\n",
    "import os\n",
    "from sklearn.preprocessing import StandardScaler\n",
    "from sklearn.model_selection import train_test_split\n",
    "from sklearn import datasets\n",
    "import warnings\n",
    "import pickle"
   ]
  },
  {
   "cell_type": "code",
   "execution_count": 8,
   "metadata": {
    "collapsed": true
   },
   "outputs": [],
   "source": [
    "def size(data):\n",
    "    \n",
    "    X_train, y_train, X_test, y_test = data\n",
    "    train_n, p = X_train.shape\n",
    "    test_n = y_test.shape[0]\n",
    "    \n",
    "    print(train_n, test_n, p)\n",
    "    \n",
    "    return "
   ]
  },
  {
   "cell_type": "code",
   "execution_count": 9,
   "metadata": {
    "collapsed": true
   },
   "outputs": [],
   "source": [
    "def parse_UCI(path):\n",
    "    \n",
    "    path=os.path.join(\"Datasets\", path)\n",
    "    file = open(path, \"r\")\n",
    "    X=[]\n",
    "    y=[]\n",
    "    for line in file:\n",
    "        line = (line.strip(\"\\n\")).split(\" \")\n",
    "        y.append(float(line[0]))\n",
    "        x = np.array([float(i.split(\":\")[1]) for i in line[1:]])\n",
    "        X.append(x)\n",
    "    \n",
    "    return np.stack(X, axis=0), np.array(y)"
   ]
  },
  {
   "cell_type": "code",
   "execution_count": 10,
   "metadata": {
    "collapsed": true
   },
   "outputs": [],
   "source": [
    "def load_wine():\n",
    "    \n",
    "    path_red=os.path.join(\"Datasets\", 'winequality-red.csv')\n",
    "    path_white=os.path.join(\"Datasets\", 'winequality-white.csv')\n",
    "    \n",
    "    red = pd.read_csv(path_red, sep=\";\").values\n",
    "    white = pd.read_csv(path_white, sep=\";\").values\n",
    "    \n",
    "    X_train, y_train = white[:, 0:-1], white[:, -1]\n",
    "    X_test, y_test = red[:, 0:-1], red[:, -1]\n",
    "    \n",
    "    X_scaler = StandardScaler()\n",
    "    X_train = X_scaler.fit_transform(X_train)\n",
    "    X_test = X_scaler.transform(X_test)\n",
    "    \n",
    "    \n",
    "    return X_train, y_train, X_test, y_test"
   ]
  },
  {
   "cell_type": "code",
   "execution_count": 11,
   "metadata": {
    "collapsed": true
   },
   "outputs": [],
   "source": [
    "def load_parkinson():\n",
    "    \n",
    "    park=os.path.join(\"Datasets\", 'parkinson.csv')\n",
    "    park = pd.read_csv(park)\n",
    "    \n",
    "    tr_ind = park[\"age\"] < 60\n",
    "    test_ind = park[\"age\"] >= 60\n",
    "     \n",
    "    train, test = park.values[tr_ind, :], park.values[test_ind, :]\n",
    "    y_train, X_train = train[:, 3], np.hstack((train[:, 1:2], train[:, 4:]))\n",
    "    y_test, X_test = test[:, 3], np.hstack((test[:, 1:2], test[:, 4:]))\n",
    "    \n",
    "    X_scaler = StandardScaler()\n",
    "    X_train = X_scaler.fit_transform(X_train)\n",
    "    X_test = X_scaler.transform(X_test)\n",
    "    \n",
    "    return X_train, y_train, X_test, y_test"
   ]
  },
  {
   "cell_type": "code",
   "execution_count": 12,
   "metadata": {
    "collapsed": true
   },
   "outputs": [],
   "source": [
    "def load_triazines(test_size=.25, random_state=100):\n",
    "    \n",
    "    X, y = parse_UCI(\"triazines\")\n",
    "    X_train, X_test, y_train, y_test = train_test_split(X, y, test_size=test_size, shuffle=False)\n",
    "    \n",
    "    X_scaler = StandardScaler()\n",
    "    X_train = X_scaler.fit_transform(X_train)\n",
    "    X_test = X_scaler.transform(X_test)\n",
    "    \n",
    "    return X_train, y_train, X_test, y_test"
   ]
  },
  {
   "cell_type": "code",
   "execution_count": 13,
   "metadata": {
    "collapsed": true
   },
   "outputs": [],
   "source": [
    "def exclude(lst, i):\n",
    "    if i == 0:\n",
    "        return lst[i+1:]\n",
    "\n",
    "    return lst[:i] + lst[i+1:]"
   ]
  },
  {
   "cell_type": "code",
   "execution_count": 14,
   "metadata": {
    "collapsed": true
   },
   "outputs": [],
   "source": [
    "def load_fertility(feature_split=0):\n",
    "    \n",
    "    path=os.path.join(\"Datasets\", \"fertility_Diagnosis.txt\")\n",
    "    file = open(path, \"r\")\n",
    "    X=[]\n",
    "    y=[]\n",
    "    for line in file:\n",
    "        line = (line.strip(\"\\n\")).split(\",\")\n",
    "        y.append(line[-1])\n",
    "        x = [float(i) for i in line[:-1]]\n",
    "        X.append(x)\n",
    "    \n",
    "    X_train = []\n",
    "    y_train = []\n",
    "    X_test = []\n",
    "    y_test = []\n",
    "    \n",
    "    def conv(y):\n",
    "        if y==\"N\":\n",
    "            return 1\n",
    "        elif y==\"O\":\n",
    "            return 0\n",
    "        else:\n",
    "            raise Exception(\"BAD\")\n",
    "    split=feature_split\n",
    "    num_pts = len(y)\n",
    "    for i in range(num_pts):\n",
    "        if X[i][split]==1:\n",
    "            X_test.append(exclude(X[i], split))\n",
    "            y_test.append(conv(y[i]))\n",
    "        else:\n",
    "            X_train.append(exclude(X[i], split))\n",
    "            y_train.append(conv(y[i]))\n",
    "            \n",
    "    X_train = np.stack(X_train, axis=0)\n",
    "    X_test = np.stack(X_test, axis=0)\n",
    "            \n",
    "    X_scaler = StandardScaler()\n",
    "    X_train = X_scaler.fit_transform(X_train)\n",
    "    X_test = X_scaler.transform(X_test)\n",
    "        \n",
    "    return X_train.astype(float), np.array(y_train).astype(float), X_test.astype(float), np.array(y_test).astype(float)"
   ]
  },
  {
   "cell_type": "code",
   "execution_count": 15,
   "metadata": {
    "collapsed": true
   },
   "outputs": [],
   "source": [
    "def load_forest_fires(split_month=\"sep\"):\n",
    "    \n",
    "    fire=os.path.join(\"Datasets\", 'forestfires.csv')\n",
    "    fire = pd.read_csv(fire)\n",
    "    num_pts = len(fire[\"month\"])\n",
    "\n",
    "    month_to_num = { \"jan\" : 1, \"feb\" : 2, \"mar\" : 3, \"apr\" : 4, \"may\" : 5, \"jun\" : 6, \"jul\" : 7, \"aug\" : 8, \"sep\" : 9, \"oct\" : 10, \"nov\" : 11, \"dec\" : 12}\n",
    "\n",
    "    tr_ind = [i for i, j in enumerate(fire[\"month\"]) if month_to_num[j] < month_to_num[split_month]]\n",
    "    test_ind = [i for i, j in enumerate(fire[\"month\"]) if month_to_num[j] >= month_to_num[split_month]]\n",
    "\n",
    "    \n",
    "    train, test = fire.values[tr_ind, :], fire.values[test_ind, :]\n",
    "    y_train, X_train = train[:, -1], np.hstack((train[:, 0:2], train[:, 4:-1]))\n",
    "    y_test, X_test = test[:, -1], np.hstack((test[:, 0:2], test[:, 4:-1]))\n",
    "\n",
    "    X_scaler = StandardScaler()\n",
    "    X_train = X_scaler.fit_transform(X_train)\n",
    "    X_test = X_scaler.transform(X_test)\n",
    "     \n",
    "    return X_train.astype(float), y_train.astype(float), X_test.astype(float), y_test.astype(float)"
   ]
  }
 ],
 "metadata": {
  "kernelspec": {
   "display_name": "Python 3",
   "language": "python",
   "name": "python3"
  },
  "language_info": {
   "codemirror_mode": {
    "name": "ipython",
    "version": 3
   },
   "file_extension": ".py",
   "mimetype": "text/x-python",
   "name": "python",
   "nbconvert_exporter": "python",
   "pygments_lexer": "ipython3",
   "version": "3.6.8"
  }
 },
 "nbformat": 4,
 "nbformat_minor": 2
}
