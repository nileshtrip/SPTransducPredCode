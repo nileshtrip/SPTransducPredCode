{
 "cells": [
  {
   "cell_type": "code",
   "execution_count": null,
   "metadata": {
    "collapsed": true
   },
   "outputs": [],
   "source": [
    "import numpy as np\n",
    "import math\n",
    "import pickle\n",
    "import itertools\n",
    "import time\n",
    "import datetime\n",
    "import scipy\n",
    "#import cvxpy as cvx\n",
    "#import mosek\n",
    "import copy\n",
    "\n",
    "import mkl\n",
    "import pickle\n",
    "import os\n",
    "import ray\n",
    "import warnings\n",
    "import psutil\n",
    "warnings.filterwarnings(\"ignore\")\n",
    "\n",
    "from sklearn.model_selection import KFold\n",
    "from sklearn.linear_model import LassoCV, RidgeCV, ElasticNetCV\n",
    "from sklearn.preprocessing import StandardScaler\n",
    "from sklearn import linear_model\n",
    "from sklearn.metrics import mean_squared_error\n",
    "from collections import OrderedDict\n",
    "from numpy import transpose as trans\n",
    "from collections import OrderedDict\n",
    "\n",
    "import subprocess\n",
    "subprocess.call(\"bash convert_files.sh\", shell=True)\n",
    "from auxiliary import is_pos_def, cond, rotate_matrix,  gen_train_data, gen_test_data\n",
    "from datasets import load_parkinson, load_triazines,  load_wine, load_fertility, load_forest_fires"
   ]
  },
  {
   "cell_type": "code",
   "execution_count": null,
   "metadata": {
    "collapsed": true
   },
   "outputs": [],
   "source": [
    "ray.init(object_store_memory=int(5e10), num_cpus=48,  redis_password=\"password54322423\")"
   ]
  },
  {
   "cell_type": "code",
   "execution_count": null,
   "metadata": {
    "collapsed": true
   },
   "outputs": [],
   "source": [
    "def fit_ridge(train_data, sigma, cv, fit_intercept, alpha_scaling=1.0):\n",
    "    \n",
    "    \"\"\" ridge regression fitter. If cv True uses CV to fit; if false will use alpha_scaling as a regularizer\n",
    "    fit_intercept determines whether or not to fit the y-intercept in the regression. This set to false by default. \"\"\"\n",
    "\n",
    "    X_train, y_train = train_data\n",
    "    n, p = X_train.shape\n",
    "\n",
    "    from sklearn.linear_model import Ridge, RidgeCV\n",
    "        \n",
    "    warnings.filterwarnings(\"ignore\")\n",
    "\n",
    "    # Theoretically Optimal regularization and CV regularizers\n",
    "\n",
    "    if not cv:\n",
    "        alpha = alpha_scaling\n",
    "        ridge = Ridge(alpha=alpha, fit_intercept=fit_intercept)\n",
    "        ridge.fit(X_train, y_train)\n",
    "    else:\n",
    "        alphas = np.logspace(-6, 1, num=100)\n",
    "        ridge=RidgeCV(alphas=alphas, fit_intercept=fit_intercept)\n",
    "        \n",
    "        # Run LassoCV with the metric for CV as MSE\n",
    "        ridge.fit(X_train, y_train)\n",
    "\n",
    "    return ridge"
   ]
  },
  {
   "cell_type": "code",
   "execution_count": null,
   "metadata": {
    "collapsed": true
   },
   "outputs": [],
   "source": [
    "def build_M(X_train, X_test, lamb):\n",
    "    n_train, p = X_train.shape\n",
    "    test_dim = X_test.ndim\n",
    "    \n",
    "    if test_dim==1:\n",
    "        n_test = 1\n",
    "    elif test_dim==2:\n",
    "        n_test, p = X_test.shape\n",
    "        \n",
    "    n_tot = n_train+n_test\n",
    "    X = np.vstack((X_train, X_test))\n",
    "    \n",
    "    Ainv = np.linalg.inv(trans(X) @ X + lamb * np.eye(p))\n",
    "    C = np.eye(n_tot) - X @ Ainv @ trans(X)\n",
    "    v = np.diag(C)\n",
    "    C_scaled = C/v[None,:]\n",
    "    M = trans(C_scaled) @ C_scaled\n",
    "    \n",
    "    return M"
   ]
  },
  {
   "cell_type": "code",
   "execution_count": null,
   "metadata": {
    "collapsed": true
   },
   "outputs": [],
   "source": [
    "def fit_TDVals(X_train, y_train, X_pseudo, y_pseudo, lamb_ridge, lamb_trans):\n",
    "    warnings.filterwarnings(\"ignore\")\n",
    "    \n",
    "    n_train = len(X_train)\n",
    "    \n",
    "    test_dim = X_pseudo.ndim\n",
    "    if test_dim==1:\n",
    "        n_pseudo = 1\n",
    "    elif test_dim==2:\n",
    "        n_pseudo, p = X_pseudo.shape\n",
    "        \n",
    "    M = build_M(X_train, X_pseudo, lamb_ridge)\n",
    "    M1 = M[:n_train, n_train:]\n",
    "    M2 = M[n_train:, n_train:]\n",
    "    \n",
    "    Sig_inv = np.linalg.inv(M2 + lamb_trans * np.diag(np.ones(n_pseudo)))\n",
    "\n",
    "    Cov = -trans(M1) @ y_train + lamb_trans * y_pseudo\n",
    "    y_preds = Sig_inv * Cov\n",
    "    \n",
    "    return y_preds"
   ]
  },
  {
   "cell_type": "code",
   "execution_count": null,
   "metadata": {
    "collapsed": true
   },
   "outputs": [],
   "source": [
    "@ray.remote\n",
    "def CV_vals(X_train, y_train, X_test, lamb_trans):\n",
    "    \n",
    "    mkl.set_num_threads(1)\n",
    "    kf = KFold(n_splits=5)\n",
    "    test_errors=[]\n",
    "    for train_index, test_index in kf.split(X_train):\n",
    "        ridge = fit_ridge((X_train[train_index], y_train[train_index]), sigma=1.0, cv=True, fit_intercept=False, alpha_scaling=1.0)\n",
    "        X_pseudo = X_train[test_index]\n",
    "        y_pseudo = ridge.predict(X_pseudo)\n",
    "        lamb_ridge = ridge.alpha_\n",
    "        n_pseudo = len(y_pseudo)\n",
    "        for i in range(n_pseudo):\n",
    "            y_preds = fit_TDVals(X_train[train_index], y_train[train_index], np.array(X_pseudo[i]), np.array(y_pseudo[i]), lamb_ridge, lamb_trans)\n",
    "            test_errors.append(np.linalg.norm(y_preds-y_train[test_index[i]]))\n",
    "    \n",
    "    return (lamb_ridge, lamb_trans, np.mean(test_errors))"
   ]
  },
  {
   "cell_type": "code",
   "execution_count": null,
   "metadata": {
    "collapsed": true
   },
   "outputs": [],
   "source": [
    "def run_TDVals_expt(data, cv, fit_intercept, lamb_trans_grid):\n",
    "    # run an entire experiment for a given value of p, n, s. These will not use CV \n",
    "    \n",
    "    #Prelim Fit\n",
    "    X_train, y_train, X_test, y_test = data\n",
    "    f_main = fit_ridge((X_train, y_train), sigma=1.0, cv=cv, fit_intercept=fit_intercept, alpha_scaling=1.0) \n",
    "    best_lam_ridge = f_main.alpha_\n",
    "    \n",
    "    n_splits=5\n",
    "    if X_train.shape[0] >= 5:\n",
    "        models = []\n",
    "        count=0\n",
    "        for lamb_trans in lamb_trans_grid:\n",
    "            count+=1\n",
    "            models.append(CV_vals.remote(X_train, y_train, X_test, lamb_trans))\n",
    "            inter=10\n",
    "            if count % inter == 0:\n",
    "                print(str(inter) + \" done\")\n",
    "\n",
    "        models = ray.get(models)\n",
    "        best_lam_ridge, best_lam_trans, err = min(models, key=lambda x: x[-1])\n",
    "        print(\"Fitting Final\")\n",
    "        y_pseudo = f_main.predict(X_test)\n",
    "        TDVals_preds = fit_TDVals(X_train, y_train, X_test, y_pseudo, best_lam_ridge, best_lam_trans)\n",
    "    else:\n",
    "        TDVals_preds = f_main.predict(X_test)\n",
    "        \n",
    "    return TDVals_preds, y_test"
   ]
  },
  {
   "cell_type": "code",
   "execution_count": null,
   "metadata": {
    "collapsed": true
   },
   "outputs": [],
   "source": [
    "def save_TDRegKernel_expts(dataset, fit_intercept, cv, lamb_trans_grid, folder_path):\n",
    "\n",
    "    # function to potentially parallelize experiments across various values of p, n, s and save data in pkl file\n",
    "    # Runs Linear Regressionon on Real Datasets\n",
    "    save_data = OrderedDict()\n",
    "    \n",
    "    save_data[\"main_reg_params\"]=\"TDRidge\"\n",
    "    save_data[\"dataset\"]=str(dataset)\n",
    "    save_data[\"fit_intercept\"]=str(fit_intercept)\n",
    "    save_data[\"lamb_trans_grid\"] = lamb_trans_grid\n",
    "    save_data[\"output\"] = \"main_preds, y_test, mu_y\"\n",
    "\n",
    "    if dataset==\"Triazines\":\n",
    "        data=load_triazines(test_size=.20)\n",
    "    elif dataset==\"Wine\":\n",
    "        data=load_wine()\n",
    "    elif dataset==\"Parkinson\":\n",
    "        data=load_parkinson()\n",
    "    elif dataset==\"Fertility\":\n",
    "        data=load_fertility()\n",
    "    elif dataset==\"Fire\":\n",
    "        data=load_forest_fires()\n",
    "        \n",
    "    X_train, y_train, X_test, y_test = data\n",
    "    train_n, p = X_train.shape\n",
    "    test_n, _ = X_test.shape\n",
    "    #print(test_n)\n",
    "    mu_y = np.mean(y_train)\n",
    "    y_train = y_train - mu_y\n",
    "    \n",
    "    print(\"Starting\")\n",
    "\n",
    "    main_preds=[]\n",
    "    y_tests=[] \n",
    "\n",
    "    main_pred, y_test = run_TDVals_expt((X_train, y_train, X_test, y_test), cv=cv, fit_intercept=fit_intercept, lamb_trans_grid = lamb_trans_grid)\n",
    "    main_preds=[i+mu_y for i in main_pred]\n",
    "    y_tests=y_test\n",
    "    \n",
    "    save_data[\"results\"] = [main_preds,\n",
    "                y_tests]\n",
    "        \n",
    "    print(\"Saving Data\")\n",
    "    time.sleep(1)\n",
    "    timestr = time.strftime(\"%Y%m%d-%H%M%S\")\n",
    "    file_name = \"TDVals_\"+str(dataset)+\"_\"+timestr+\".pickle\"\n",
    "    \n",
    "    file_path = os.path.join(folder_path, file_name)\n",
    "    pickle.dump(save_data, open(file_path, \"wb\"))\n",
    "    \n",
    "    return save_data"
   ]
  },
  {
   "cell_type": "code",
   "execution_count": null,
   "metadata": {
    "collapsed": true
   },
   "outputs": [],
   "source": [
    "path_options=\"TDValsSP_Real\"\n",
    "now = datetime.datetime.now()\n",
    "folder_path=str(now.month)+\"-\"+str(now.day)+\"-\"+path_options\n",
    "if not os.path.exists(folder_path):\n",
    "    os.makedirs(folder_path)"
   ]
  },
  {
   "cell_type": "code",
   "execution_count": null,
   "metadata": {
    "collapsed": true
   },
   "outputs": [],
   "source": [
    "computer_cpus = psutil.cpu_count()\n",
    "#\"Fertility\", \"Triazines\", \"Fire\"\n",
    "datasets=[\"Fertility\", \"Triazines\", \"Fire\", \"Wine\", \"Parkinson\"]\n",
    "cv=True       \n",
    "fit_intercept=False\n",
    "path_options=\"TDValsSP_Real\"\n",
    "\n",
    "lamb_trans_grid = np.logspace(start=-6, stop=3, num=30)\n",
    "now = datetime.datetime.now()\n",
    "folder_path=str(now.month)+\"-\"+str(now.day)+\"-\"+path_options\n",
    "if not os.path.exists(folder_path):\n",
    "    os.makedirs(folder_path)"
   ]
  },
  {
   "cell_type": "code",
   "execution_count": null,
   "metadata": {
    "collapsed": true
   },
   "outputs": [],
   "source": [
    "count=0\n",
    "for dataset in datasets:\n",
    "    count+=1\n",
    "    #print(\"{0:.0%}\".format(float(count)/total)+\" Done\")\n",
    "    data_lin_reg = save_TDRegKernel_expts(dataset=dataset, fit_intercept=fit_intercept, cv=cv, lamb_trans_grid=lamb_trans_grid, folder_path=folder_path)"
   ]
  }
 ],
 "metadata": {
  "kernelspec": {
   "display_name": "Python 3",
   "language": "python",
   "name": "python3"
  },
  "language_info": {
   "codemirror_mode": {
    "name": "ipython",
    "version": 3
   },
   "file_extension": ".py",
   "mimetype": "text/x-python",
   "name": "python",
   "nbconvert_exporter": "python",
   "pygments_lexer": "ipython3",
   "version": "3.6.8"
  }
 },
 "nbformat": 4,
 "nbformat_minor": 2
}
