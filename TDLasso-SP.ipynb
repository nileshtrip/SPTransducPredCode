{
 "cells": [
  {
   "cell_type": "code",
   "execution_count": 1,
   "metadata": {
    "collapsed": true
   },
   "outputs": [],
   "source": [
    "import numpy as np\n",
    "import math\n",
    "import pickle\n",
    "import itertools\n",
    "import time\n",
    "import datetime\n",
    "#import cvxpy as cvx\n",
    "#import mosek\n",
    "import copy\n",
    "\n",
    "import mkl\n",
    "import pickle\n",
    "import os\n",
    "import ray\n",
    "import warnings\n",
    "import psutil\n",
    "warnings.filterwarnings(\"ignore\")\n",
    "\n",
    "from sklearn.model_selection import KFold\n",
    "from sklearn.linear_model import LassoCV, RidgeCV, ElasticNetCV\n",
    "from sklearn.preprocessing import StandardScaler\n",
    "from sklearn import linear_model\n",
    "from sklearn.metrics import mean_squared_error\n",
    "from collections import OrderedDict\n",
    "from numpy import transpose as trans\n",
    "from collections import OrderedDict\n",
    "\n",
    "import subprocess\n",
    "subprocess.call(\"bash convert_files.sh\", shell=True)\n",
    "from auxiliary import is_pos_def, cond, rotate_matrix,  gen_train_data, gen_test_data\n",
    "from datasets import load_parkinson, load_triazines,  load_wine, load_fertility, load_forest_fires"
   ]
  },
  {
   "cell_type": "code",
   "execution_count": 2,
   "metadata": {
    "collapsed": false
   },
   "outputs": [
    {
     "name": "stderr",
     "output_type": "stream",
     "text": [
      "2020-04-11 22:00:52,413\tWARNING worker.py:682 -- WARNING: Not updating worker name since `setproctitle` is not installed. Install this with `pip install setproctitle` (or ray[debug]) to enable monitoring of worker processes.\n",
      "2020-04-11 22:00:52,417\tWARNING services.py:592 -- setpgrp failed, processes may not be cleaned up properly: [Errno 1] Operation not permitted.\n",
      "2020-04-11 22:00:52,419\tINFO resource_spec.py:212 -- Starting Ray with 186.38 GiB memory available for workers and up to 46.57 GiB for objects. You can adjust these settings with ray.init(memory=<bytes>, object_store_memory=<bytes>).\n",
      "2020-04-11 22:00:52,682\tWARNING services.py:1080 -- Failed to start the dashboard. The dashboard requires Python 3 as well as 'pip install aiohttp psutil setproctitle grpcio'.\n"
     ]
    },
    {
     "data": {
      "text/plain": [
       "{'node_ip_address': '169.229.49.177',\n",
       " 'redis_address': '169.229.49.177:33092',\n",
       " 'object_store_address': '/tmp/ray/session_2020-04-11_22-00-52_417166_37291/sockets/plasma_store',\n",
       " 'raylet_socket_name': '/tmp/ray/session_2020-04-11_22-00-52_417166_37291/sockets/raylet',\n",
       " 'webui_url': None,\n",
       " 'session_dir': '/tmp/ray/session_2020-04-11_22-00-52_417166_37291'}"
      ]
     },
     "execution_count": 2,
     "metadata": {},
     "output_type": "execute_result"
    }
   ],
   "source": [
    "ray.init(object_store_memory=int(5e10), num_cpus=48,  redis_password=\"password54322423\")"
   ]
  },
  {
   "cell_type": "code",
   "execution_count": 3,
   "metadata": {
    "collapsed": true
   },
   "outputs": [],
   "source": [
    "def fit_lasso(train_data, sigma, cv, fit_intercept, alpha_scaling, n_folds=5):\n",
    "    \n",
    "    \"\"\" Lasso fitter. If cv True uses CV to fit; if false will use alpha_scaling * \\sqrt{2 log p/n} as a regularizer\n",
    "    fit_intercept determines whether or not to fit the y-intercept in the regression. This set to false by default. \"\"\"\n",
    "\n",
    "    X_train, y_train = train_data\n",
    "    n, p = X_train.shape\n",
    "\n",
    "    from sklearn.linear_model import Lasso, LassoCV\n",
    "        \n",
    "    warnings.filterwarnings(\"ignore\")\n",
    "\n",
    "    # Theoretically Optimal regularization and CV regularizers\n",
    "\n",
    "    if not cv:\n",
    "        alpha = alpha_scaling*sigma*math.sqrt(2* (math.log(p)/n))\n",
    "        lasso = Lasso(alpha=alpha, max_iter=5000, fit_intercept=fit_intercept)\n",
    "        lasso.fit(X_train, y_train)\n",
    "    else:\n",
    "        alphas = np.logspace(-6, 1, num=100)\n",
    "        lasso=LassoCV(max_iter=5000, cv=n_folds, alphas=alphas, fit_intercept=fit_intercept)\n",
    "        \n",
    "        # Run LassoCV with the metric for CV as MSE\n",
    "        lasso.fit(X_train, y_train)\n",
    "        \n",
    "    return lasso"
   ]
  },
  {
   "cell_type": "code",
   "execution_count": 4,
   "metadata": {
    "collapsed": true
   },
   "outputs": [],
   "source": [
    "@ray.remote\n",
    "def fit_lasso_par(train_data, sigma, cv, fit_intercept, alpha_scaling, n_folds=5):\n",
    "    \n",
    "    \"\"\" Lasso fitter. If cv True uses CV to fit; if false will use alpha_scaling * \\sqrt{2 log p/n} as a regularizer\n",
    "    fit_intercept determines whether or not to fit the y-intercept in the regression. This set to false by default. \"\"\"\n",
    "    mkl.set_num_threads(1)\n",
    "    X_train, y_train = train_data\n",
    "    n, p = X_train.shape\n",
    "\n",
    "    from sklearn.linear_model import Lasso, LassoCV\n",
    "        \n",
    "    warnings.filterwarnings(\"ignore\")\n",
    "\n",
    "    # Theoretically Optimal regularization and CV regularizers\n",
    "\n",
    "    if not cv:\n",
    "        alpha = alpha_scaling*sigma*math.sqrt(2* (math.log(p)/n))\n",
    "        lasso = Lasso(alpha=alpha, max_iter=5000, fit_intercept=fit_intercept)\n",
    "        lasso.fit(X_train, y_train)\n",
    "    else:\n",
    "        alphas = np.logspace(-6, 1, num=100)\n",
    "        lasso=LassoCV(max_iter=5000, cv=n_folds, alphas=alphas, fit_intercept=fit_intercept)\n",
    "        \n",
    "        # Run LassoCV with the metric for CV as MSE\n",
    "        lasso.fit(X_train, y_train)\n",
    "    beta = lasso.coef_\n",
    "    y_pred = beta @ X_train[-1, :]\n",
    "        \n",
    "    return y_pred"
   ]
  },
  {
   "cell_type": "code",
   "execution_count": 5,
   "metadata": {
    "collapsed": true
   },
   "outputs": [],
   "source": [
    "def run_TDLassoSP_expt(data, cv, fit_intercept):\n",
    "    # run an entire experiment for a given value of p, n, s. These will not use CV \n",
    "    \n",
    "    #Prelim Fit\n",
    "    X_train, y_train, X_test, y_test = data\n",
    "    f_main = fit_lasso((X_train, y_train), sigma=1.0, cv=cv, fit_intercept=fit_intercept, alpha_scaling=1.0) \n",
    "    y_pseudo_preds = f_main.predict(X_test)\n",
    "    \n",
    "    # TD fitting\n",
    "    preds = []\n",
    "    n_test, p  = X_test.shape\n",
    "    for i in range(n_test):\n",
    "        X = np.vstack((X_train, X_test[i, :]))\n",
    "        y = np.hstack((y_train, y_pseudo_preds[i]))\n",
    "        preds.append(fit_lasso_par.remote((X, y), sigma=1.0, cv=cv, fit_intercept=fit_intercept, alpha_scaling=1.0))\n",
    "    main_preds = ray.get(preds)\n",
    "    \n",
    "    return main_preds, y_test"
   ]
  },
  {
   "cell_type": "code",
   "execution_count": 6,
   "metadata": {
    "collapsed": true
   },
   "outputs": [],
   "source": [
    "def save_TDLasso_expts(dataset, fit_intercept, cv, folder_path):\n",
    "\n",
    "    # function to potentially parallelize experiments across various values of p, n, s and save data in pkl file\n",
    "    # Runs Linear Regressionon on Real Datasets\n",
    "    save_data = OrderedDict()\n",
    "    \n",
    "    save_data[\"main_reg_params\"]=\"TDLasso\"\n",
    "    save_data[\"dataset\"]=str(dataset)\n",
    "    save_data[\"fit_intercept\"]=str(fit_intercept)\n",
    "    save_data[\"output\"] = \"main_preds, y_test, mu_y\"\n",
    "\n",
    "    if dataset==\"Triazines\":\n",
    "        data=load_triazines(test_size=.20)\n",
    "    elif dataset==\"Wine\":\n",
    "        data=load_wine()\n",
    "    elif dataset==\"Parkinson\":\n",
    "        data=load_parkinson()\n",
    "    elif dataset==\"Fertility\":\n",
    "        data=load_fertility()\n",
    "    elif dataset==\"Fire\":\n",
    "        data=load_forest_fires()\n",
    "        \n",
    "    X_train, y_train, X_test, y_test = data\n",
    "    train_n, p = X_train.shape\n",
    "    test_n, _ = X_test.shape\n",
    "    #print(test_n)\n",
    "    mu_y = np.mean(y_train)\n",
    "    y_train = y_train - mu_y\n",
    "    \n",
    "    print(\"Starting\")\n",
    "\n",
    "    main_preds=[]\n",
    "    y_tests=[] \n",
    "\n",
    "\n",
    "    main_pred, y_test= run_TDLassoSP_expt((X_train, y_train, X_test, y_test), cv=cv, fit_intercept=fit_intercept)\n",
    "    main_preds = [i+mu_y for i in main_pred]\n",
    "    y_tests=y_test\n",
    "    \n",
    "    save_data[\"results\"] = [main_preds,\n",
    "                y_tests]\n",
    "        \n",
    "    print(\"Saving Data\")\n",
    "    time.sleep(1)\n",
    "    timestr = time.strftime(\"%Y%m%d-%H%M%S\")\n",
    "    file_name = \"TDLassoSP_\"+str(dataset)+\"_\"+timestr+\".pickle\"\n",
    "    \n",
    "    file_path = os.path.join(folder_path, file_name)\n",
    "    pickle.dump(save_data, open(file_path, \"wb\"))\n",
    "    \n",
    "    return save_data"
   ]
  },
  {
   "cell_type": "code",
   "execution_count": 7,
   "metadata": {
    "collapsed": true
   },
   "outputs": [],
   "source": [
    "path_options=\"TDLassoSP_Real\"\n",
    "now = datetime.datetime.now()\n",
    "folder_path=str(now.month)+\"-\"+str(now.day)+\"-\"+path_options\n",
    "if not os.path.exists(folder_path):\n",
    "    os.makedirs(folder_path)"
   ]
  },
  {
   "cell_type": "code",
   "execution_count": 8,
   "metadata": {
    "collapsed": true
   },
   "outputs": [],
   "source": [
    "computer_cpus = psutil.cpu_count()\n",
    "datasets=[\"Fertility\", \"Triazines\", \"Fire\", \"Wine\", \"Parkinson\"]\n",
    "cv=True       \n",
    "fit_intercept=False\n",
    "path_options=\"TDLassoSP_Real\"\n",
    "\n",
    "now = datetime.datetime.now()\n",
    "folder_path=str(now.month)+\"-\"+str(now.day)+\"-\"+path_options\n",
    "if not os.path.exists(folder_path):\n",
    "    os.makedirs(folder_path)"
   ]
  },
  {
   "cell_type": "code",
   "execution_count": null,
   "metadata": {
    "collapsed": false
   },
   "outputs": [
    {
     "name": "stdout",
     "output_type": "stream",
     "text": [
      "Starting\n",
      "Saving Data\n",
      "Starting\n",
      "Saving Data\n",
      "Starting\n",
      "Saving Data\n",
      "Starting\n",
      "Saving Data\n",
      "Starting\n"
     ]
    }
   ],
   "source": [
    "count=0\n",
    "for dataset in datasets:\n",
    "    count+=1\n",
    "    #print(\"{0:.0%}\".format(float(count)/total)+\" Done\")\n",
    "    data_lin_reg = save_TDLasso_expts(dataset=dataset, fit_intercept=fit_intercept, cv=cv, folder_path=folder_path)"
   ]
  },
  {
   "cell_type": "code",
   "execution_count": null,
   "metadata": {
    "collapsed": true
   },
   "outputs": [],
   "source": []
  }
 ],
 "metadata": {
  "kernelspec": {
   "display_name": "Python 3",
   "language": "python",
   "name": "python3"
  },
  "language_info": {
   "codemirror_mode": {
    "name": "ipython",
    "version": 3
   },
   "file_extension": ".py",
   "mimetype": "text/x-python",
   "name": "python",
   "nbconvert_exporter": "python",
   "pygments_lexer": "ipython3",
   "version": "3.6.8"
  }
 },
 "nbformat": 4,
 "nbformat_minor": 2
}
